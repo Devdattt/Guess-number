{
  "cells": [
    {
      "cell_type": "markdown",
      "metadata": {
        "id": "view-in-github",
        "colab_type": "text"
      },
      "source": [
        "<a href=\"https://colab.research.google.com/github/Devdattt/Guess-number/blob/main/Guess_number.ipynb\" target=\"_parent\"><img src=\"https://colab.research.google.com/assets/colab-badge.svg\" alt=\"Open In Colab\"/></a>"
      ]
    },
    {
      "cell_type": "code",
      "execution_count": null,
      "metadata": {
        "id": "o2snqebY8P_8",
        "colab": {
          "base_uri": "https://localhost:8080/"
        },
        "outputId": "d895f6a6-29f6-47f6-83f5-26d5f1f43aab"
      },
      "outputs": [
        {
          "output_type": "stream",
          "name": "stdout",
          "text": [
            "guess a number between 1 and 55: 5\n",
            "sorry guess is too low\n",
            "guess a number between 1 and 55: 50\n",
            "sorry guess is too high\n",
            "guess a number between 1 and 55: 20\n",
            "sorry guess is too high\n",
            "guess a number between 1 and 55: 15\n",
            "sorry guess is too low\n",
            "guess a number between 1 and 55: 16\n",
            "sorry guess is too low\n",
            "guess a number between 1 and 55: 17\n",
            "sorry guess is too low\n",
            "guess a number between 1 and 55: 18\n",
            "sorry guess is too low\n",
            "guess a number between 1 and 55: 19\n",
            "yay u guess the right number 19\n"
          ]
        }
      ],
      "source": [
        "import random\n",
        "\n",
        "def guess(x):\n",
        "  random_number = random.randint(1, x)\n",
        "  guess = 0\n",
        "  while guess != random_number:\n",
        "    guess = int(input(f'guess a number between 1 and {x}: '))\n",
        "    if guess < random_number:\n",
        "      print('sorry guess is too low')\n",
        "    elif guess > random_number:\n",
        "      print('sorry guess is too high')\n",
        "\n",
        "  print(f'yay u guess the right number {random_number}')\n",
        "\n",
        "guess(55)"
      ]
    },
    {
      "cell_type": "code",
      "execution_count": null,
      "metadata": {
        "id": "q_vCuHFX9Rb8",
        "colab": {
          "base_uri": "https://localhost:8080/"
        },
        "outputId": "aa7afc95-cd06-44d3-fb7a-e0ac3a0aa32d"
      },
      "outputs": [
        {
          "output_type": "stream",
          "name": "stdout",
          "text": [
            "Is 48 too high(H), too low(L), or correct (c)??h\n",
            "Is 20 too high(H), too low(L), or correct (c)??l\n",
            "Is 36 too high(H), too low(L), or correct (c)??h\n",
            "Is 33 too high(H), too low(L), or correct (c)??l\n",
            "Is 35 too high(H), too low(L), or correct (c)??h\n",
            "Is 34 too high(H), too low(L), or correct (c)??c\n",
            "yay ! the computer guessed your number, 34, correctley! \n"
          ]
        }
      ],
      "source": [
        "import random\n",
        "\n",
        "def computer_guess(x):\n",
        "  low = 1\n",
        "  high = x\n",
        "\n",
        "  feedback = ''\n",
        "  while feedback != 'c':\n",
        "    if low != high:\n",
        "      guess = random.randint(low, high)\n",
        "    else:\n",
        "      guess = low\n",
        "    feedback = input(f'Is {guess} too high(H), too low(L), or correct (c)??').lower()\n",
        "    if feedback == 'h':\n",
        "      high = guess - 1\n",
        "    elif feedback == 'l':\n",
        "      low = guess + 1\n",
        "\n",
        "  print(f'yay ! the computer guessed your number, {guess}, correctley! ')\n",
        "\n",
        "computer_guess(50)"
      ]
    },
    {
      "cell_type": "code",
      "source": [],
      "metadata": {
        "id": "34UcYWXK5wZJ"
      },
      "execution_count": null,
      "outputs": []
    }
  ],
  "metadata": {
    "colab": {
      "provenance": [],
      "authorship_tag": "ABX9TyOHW5x/fDgK5FFE0vu4FPT6",
      "include_colab_link": true
    },
    "kernelspec": {
      "display_name": "Python 3",
      "name": "python3"
    },
    "language_info": {
      "name": "python"
    }
  },
  "nbformat": 4,
  "nbformat_minor": 0
}